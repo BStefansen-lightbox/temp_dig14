{
 "cells": [
  {
   "cell_type": "markdown",
   "metadata": {},
   "source": [
    "# LightBox API - Purpose of Search Endpoint\n",
    "\n",
    "Return an address based on the full text string 'text,' where each result includes a representative point for the address and references to related parcels. If there is no exact match, this will return the best possible match. The '$ref' value within each 'parcels' object for a specific address can be used to get information about the parcel."
   ]
  },
  {
   "cell_type": "markdown",
   "metadata": {},
   "source": [
    "## Batch Geocoding Addresses with Search\n",
    "\n",
    "This batch geocoder processes addresses in batches sequentially, which means it sends one request at a time to the LightBox API per address within a batch. This approach is straightforward but does not leverage concurrent processing techniques such as multi-threading or asynchronous requests.\n",
    "\n",
    "This notebook provides a step-by-step guide to batch geocoding addresses using the LightBox API. The process involves several key steps, each detailed in subsequent sections:\n",
    "\n",
    "1. **Setup**\n",
    "   - Importing necessary Python libraries.\n",
    "   - Defining global configurations and API keys.\n",
    "\n",
    "2. **Function Definitions**\n",
    "   - `geocode_address`: Function to geocode a single address.\n",
    "   - `read_addresses_from_csv`: Function to read and format addresses from a CSV file.\n",
    "   - `batch_geocode_addresses`: Function to process addresses in batches and geocode them.\n",
    "\n",
    "3. **API Key**\n",
    "   - Enter your API Key for Authorization.\n",
    "\n",
    "4. **Reading Input Data**\n",
    "   - Reading and formatting addresses from a user-specified CSV file.\n",
    "\n",
    "5. **Batch Geocoding Process**\n",
    "   - Executing the batch geocoding process using the defined functions.\n",
    "   - Handling different scenarios and errors during the geocoding process.\n",
    "\n",
    "6. **Saving Results**\n",
    "   - Saving the geocoded data to a CSV file.\n",
    "   - Format and content of the output data.\n",
    "\n",
    "Additional Materials:\n",
    "[LightBox Developer Portal](https://developer.lightboxre.com/)"
   ]
  },
  {
   "cell_type": "markdown",
   "metadata": {},
   "source": [
    "### 1. Import the required python packages"
   ]
  },
  {
   "cell_type": "code",
   "execution_count": 7,
   "metadata": {},
   "outputs": [],
   "source": [
    "import requests\n",
    "import pandas as pd\n",
    "from typing import Dict, List"
   ]
  },
  {
   "cell_type": "markdown",
   "metadata": {},
   "source": [
    "### 2. Import function definitions"
   ]
  },
  {
   "cell_type": "code",
   "execution_count": 8,
   "metadata": {},
   "outputs": [],
   "source": [
    "# Function to geocode a single address using the LightBox API.\n",
    "def geocode_address(lightbox_api_key: str, address: str) -> Dict:\n",
    "    \"\"\"\n",
    "    Geocodes the provided address using the LightBox API.\n",
    "    \n",
    "    Args:\n",
    "        lightbox_api_key (str): The API key for accessing the LightBox API.\n",
    "        address (str): The address string for matching.\n",
    "    \n",
    "    Returns:\n",
    "        dict: The geocoded address information in JSON format.\n",
    "    \"\"\"\n",
    "    # API endpoint configuration\n",
    "    BASE_URL = \"https://api.lightboxre.com/v1\"\n",
    "    ENDPOINT = \"/addresses/search\"\n",
    "    URL = BASE_URL + ENDPOINT\n",
    "\n",
    "    # Setting up request parameters and headers\n",
    "    params = {'text': address}\n",
    "    headers = {'x-api-key': lightbox_api_key}\n",
    "\n",
    "    # Sending request to the LightBox API\n",
    "    response = requests.get(URL, params=params, headers=headers)\n",
    "\n",
    "    return response\n",
    "\n",
    "# Function to read addresses from a CSV file and format them.\n",
    "def read_addresses_from_csv(file_path: str) -> List[str]:\n",
    "    \"\"\"\n",
    "    Reads addresses from a CSV file and formats them into 'Address, City State Zip Code'.\n",
    "    \n",
    "    Args:\n",
    "        file_path (str): Path to the CSV file.\n",
    "    \n",
    "    Returns:\n",
    "        List[str]: A list of formatted address strings.\n",
    "    \"\"\"\n",
    "    df = pd.read_csv(file_path)\n",
    "\n",
    "    # Concatenating address components into a single address string per row\n",
    "    formatted_addresses = df.apply(\n",
    "        lambda row: f\"{row['Address']}, {row['City']} {row['State']} {row['Zip Code']}\", \n",
    "        axis=1\n",
    "    )\n",
    "    return formatted_addresses.tolist()\n",
    "\n",
    "# Function to batch process addresses for geocoding.\n",
    "def batch_geocode_addresses(api_key: str, addresses: List[str], batch_size: int = 200) -> pd.DataFrame:\n",
    "    \"\"\"\n",
    "    Batch processes a list of addresses for geocoding.\n",
    "\n",
    "    Args:\n",
    "        api_key (str): API key for the geocoding service.\n",
    "        addresses (List[str]): List of addresses to geocode.\n",
    "        batch_size (int): Number of addresses to process in each batch.\n",
    "    \n",
    "    Returns:\n",
    "        pd.DataFrame: DataFrame containing original addresses and expanded geocoded data.\n",
    "    \"\"\"\n",
    "    batched_addresses = [addresses[i:i + batch_size] for i in range(0, len(addresses), batch_size)]\n",
    "    all_results = []\n",
    "\n",
    "    for batch in batched_addresses:\n",
    "        for address in batch:\n",
    "            result = geocode_address(api_key, address)\n",
    "            if result.status_code == 200:\n",
    "                data = result.json()\n",
    "                # Extracting data from the first match\n",
    "                if data['addresses']:\n",
    "                    first_match = data['addresses'][0]\n",
    "                    latitude = first_match['location']['representativePoint']['latitude']\n",
    "                    longitude = first_match['location']['representativePoint']['longitude']\n",
    "                    confidence_score = first_match['$metadata']['geocode']['confidence']['score']\n",
    "                    precision_code = first_match['$metadata']['geocode']['precisionCode']  # Extracting precision code\n",
    "                    all_results.append({\n",
    "                        \"address\": address, \n",
    "                        \"latitude\": latitude, \n",
    "                        \"longitude\": longitude, \n",
    "                        \"confidence_score\": confidence_score,\n",
    "                        \"precision_code\": precision_code  # Adding precision code to the DataFrame\n",
    "                    })\n",
    "                else:\n",
    "                    all_results.append({\n",
    "                        \"address\": address, \n",
    "                        \"latitude\": \"No match\", \n",
    "                        \"longitude\": \"No match\", \n",
    "                        \"confidence_score\": \"No match\",\n",
    "                        \"precision_code\": \"No match\"\n",
    "                    })\n",
    "            else:\n",
    "                all_results.append({\n",
    "                    \"address\": address, \n",
    "                    \"latitude\": \"Failed\",\n",
    "                    \"longitude\": f\"Status Code: {result.status_code}\",\n",
    "                    \"confidence_score\": \"Failed\",\n",
    "                    \"precision_code\": \"Failed\"\n",
    "                })\n",
    "                print(f\"Failed to geocode address '{address}', Status Code: {result.status_code}\")\n",
    "\n",
    "    return pd.DataFrame(all_results)"
   ]
  },
  {
   "cell_type": "markdown",
   "metadata": {},
   "source": [
    "### 3. Create variable(s) that will be used to authenticate your calls.\n",
    "Get your key from the [LightBox Developer Portal](https://developer.lightboxre.com/)."
   ]
  },
  {
   "cell_type": "code",
   "execution_count": 9,
   "metadata": {},
   "outputs": [],
   "source": [
    "lightbox_api_key = '<YOUR_API_KEY>'"
   ]
  },
  {
   "cell_type": "markdown",
   "metadata": {},
   "source": [
    "### 4. Reading input data.\n",
    "- The user specifies the location and name of the input file of addresses.\n",
    "    - Assuming the file is in the root folder, a user would input input_file_name.csv\n",
    "    - This script assumes that the input csv file has data with the headers 'Address', 'City', 'State' and 'Zip Code'.\n",
    "- The user specifies the location and name of the output file for csv data.\n",
    "    - Assuming the file is in the root folder, a user would input output_file_name.csv"
   ]
  },
  {
   "cell_type": "code",
   "execution_count": 10,
   "metadata": {},
   "outputs": [
    {
     "name": "stdout",
     "output_type": "stream",
     "text": [
      "Reading addresses from CSV file...\n"
     ]
    }
   ],
   "source": [
    "input_file_path = 'input.csv' # User inputs the file name\n",
    "output_file_path = 'output.csv'  # User inputs the output file name\n",
    "\n",
    "# Reading and processing addresses\n",
    "print(\"Reading addresses from CSV file...\")\n",
    "addresses = read_addresses_from_csv(input_file_path)"
   ]
  },
  {
   "cell_type": "markdown",
   "metadata": {},
   "source": [
    "### 5. Batch Geocoding Process"
   ]
  },
  {
   "cell_type": "code",
   "execution_count": 11,
   "metadata": {},
   "outputs": [
    {
     "name": "stdout",
     "output_type": "stream",
     "text": [
      "Starting batch geocoding...\n"
     ]
    },
    {
     "name": "stdout",
     "output_type": "stream",
     "text": [
      "Batch geocoding completed.\n"
     ]
    }
   ],
   "source": [
    "print(\"Starting batch geocoding...\")\n",
    "geocoded_data = batch_geocode_addresses(lightbox_api_key, addresses)\n",
    "print(\"Batch geocoding completed.\")"
   ]
  },
  {
   "cell_type": "markdown",
   "metadata": {},
   "source": [
    "### 6. Saving Results"
   ]
  },
  {
   "cell_type": "code",
   "execution_count": 12,
   "metadata": {},
   "outputs": [
    {
     "name": "stdout",
     "output_type": "stream",
     "text": [
      "Geocoded data saved to 'output4.csv'.\n"
     ]
    }
   ],
   "source": [
    "# Saving geocoded data to output file\n",
    "geocoded_data.to_csv(output_file_path, index=False)\n",
    "print(f\"Geocoded data saved to '{output_file_path}'.\")"
   ]
  }
 ],
 "metadata": {
  "kernelspec": {
   "display_name": "Python 3",
   "language": "python",
   "name": "python3"
  },
  "language_info": {
   "codemirror_mode": {
    "name": "ipython",
    "version": 3
   },
   "file_extension": ".py",
   "mimetype": "text/x-python",
   "name": "python",
   "nbconvert_exporter": "python",
   "pygments_lexer": "ipython3",
   "version": "3.11.1"
  }
 },
 "nbformat": 4,
 "nbformat_minor": 2
}
