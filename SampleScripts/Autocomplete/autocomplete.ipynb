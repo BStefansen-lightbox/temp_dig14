{
  "cells": [
    {
      "cell_type": "markdown",
      "metadata": {},
      "source": [
        "# LightBox API - Purpose of Autocomplete Endpoint\n",
        "\n",
        "Return a set of address candidates based on autocompletion of the partial string 'text,' where each result includes a representative point for the address and references to related parcels. The '$ref' value within each 'parcels' object for a specific address can be used to get information about the parcel."
      ]
    },
    {
      "cell_type": "markdown",
      "metadata": {
        "id": "2cOAB4V6LHOn"
      },
      "source": [
        "# LightBox API - Geocoding Addresses with Autocomplete\n",
        "\n",
        "This notebook demonstrates basic features of the LightBox Geocoding API by walking through the following steps:\n",
        "\n",
        "1. Import Python packages\n",
        "2. Enter your **API Key** for authorization\n",
        "3. Create request objects and display the results both in the JSON form.\n",
        "\n",
        "Additional Materials:\n",
        "[LightBox Developer Portal](https://developer.lightboxre.com/)"
      ]
    },
    {
      "cell_type": "markdown",
      "metadata": {
        "id": "hBNLvtL0Meqa"
      },
      "source": [
        "#1. Import the required python packages"
      ]
    },
    {
      "cell_type": "code",
      "execution_count": 13,
      "metadata": {
        "id": "Dy1Y4JbTK_ZS"
      },
      "outputs": [],
      "source": [
        "import requests\n",
        "import json\n",
        "from typing import Dict"
      ]
    },
    {
      "cell_type": "markdown",
      "metadata": {
        "id": "U4IjEviiWHh0"
      },
      "source": [
        "#2. Import function definitions"
      ]
    },
    {
      "cell_type": "code",
      "execution_count": 14,
      "metadata": {
        "id": "4KcpfI0sWS_K"
      },
      "outputs": [],
      "source": [
        "# ----------------------------\n",
        "# Function Definitions\n",
        "# ----------------------------\n",
        "def autocomplete_address(\n",
        "        lightbox_api_key: str, \n",
        "        address: str, \n",
        "        country_code: str\n",
        ") -> Dict:\n",
        "    \"\"\"\n",
        "    Autocompletes the provided address using the LightBox API.\n",
        "    \n",
        "    Args:\n",
        "        lightbox_api_key (str): The API key for accessing the LightBox API.\n",
        "        address (str): The partial address to be autocompleted.\n",
        "        country_code (str): The ISO 3166-1 alpha-2 country code.\n",
        "    \n",
        "    Returns:\n",
        "        dict: The autocompleted address information in JSON format.\n",
        "    \"\"\"\n",
        "    # Prepare request parameters\n",
        "    BASE_URL = \"https://api.lightboxre.com/v1\"\n",
        "    ENDPOINT = \"/addresses/_autocomplete\"\n",
        "    URL = BASE_URL + ENDPOINT\n",
        "    params = {'text': address, 'countryCode': country_code}\n",
        "    headers = {'x-api-key': lightbox_api_key}\n",
        "\n",
        "    # Send request to LightBox API\n",
        "    response = requests.get(URL, params=params, headers=headers)\n",
        "\n",
        "    return response\n",
        "\n",
        "\n"
      ]
    },
    {
      "cell_type": "markdown",
      "metadata": {
        "id": "RaaeChfBNCQL"
      },
      "source": [
        "#3. Create variables that will be used to authenticate your calls.\n",
        "Get your key from the [LightBox Developer Portal](https://developer.lightboxre.com/)."
      ]
    },
    {
      "cell_type": "code",
      "execution_count": 15,
      "metadata": {
        "id": "S3QFcHh-NOkz"
      },
      "outputs": [],
      "source": [
        "lightbox_api_key = '<YOUR_API_KEY>'"
      ]
    },
    {
      "cell_type": "markdown",
      "metadata": {
        "id": "ujeelPaiNNGo"
      },
      "source": [
        "#4. LightBox Geocoding API Details\n",
        "This notbook will create various requests and display the output in JSON.\n",
        "1. **Geocoding** - https://api.lightboxre.com/addresses/_autocomplete\n",
        "\n",
        "For additional details regarding each endpoint's request parameters or response models, visit the [LightBox Geocoding](https://developer.lightboxre.com/api/geocoding) on the LightBox Developer Portal page."
      ]
    },
    {
      "cell_type": "markdown",
      "metadata": {
        "id": "K0RRR5piPUm3"
      },
      "source": [
        "1. Notice how the less the complete the address is, less options are provided by the API.\n",
        "\n",
        "\n"
      ]
    },
    {
      "cell_type": "code",
      "execution_count": null,
      "metadata": {},
      "outputs": [
        {
          "name": "stdout",
          "output_type": "stream",
          "text": [
            "status_code: 200\n",
            "5201 AVENUE C, CORPUS CHRISTI, TX 78410-4720, US\n",
            "5201 C ST, PHILADELPHIA, PA 19120-3608, US\n",
            "5201 C ST, SACRAMENTO, CA 95819-2323, US\n",
            "5201 C ST SE, WASHINGTON, DC 20019-6312, US\n"
          ]
        }
      ],
      "source": [
        "address = '5201 C'\n",
        "country_code = 'US'\n",
        "address_search_data = autocomplete_address(lightbox_api_key, address, country_code)\n",
        "\n",
        "print(f\"status_code: {address_search_data.status_code}\")\n",
        "for address in address_search_data.json()[\"addresses\"]:\n",
        "    print(address[\"label\"])"
      ]
    },
    {
      "cell_type": "markdown",
      "metadata": {
        "id": "-IOtu7BQOmQt"
      },
      "source": [
        "2. Notice how the more the complete the address is, more options are provided by the API.\n",
        "\n",
        "\n"
      ]
    },
    {
      "cell_type": "code",
      "execution_count": 48,
      "metadata": {
        "colab": {
          "base_uri": "https://localhost:8080/"
        },
        "id": "oSokz8asO9wS",
        "outputId": "017bb3a6-47c8-42b5-945f-217046d13b77"
      },
      "outputs": [
        {
          "name": "stdout",
          "output_type": "stream",
          "text": [
            "status_code: 200\n",
            "5201 CALIFORNIA AVE UNIT A, IRVINE, CA 92617, US\n",
            "5201 CALIFORNIA ST UNIT A, OMAHA, NE 68132, US\n",
            "5201 CALIFORNIA AVE UNIT A, BAKERSFIELD, CA 93309, US\n",
            "5201 S CALIFORNIA AVE UNIT A, CHICAGO, IL 60632, US\n",
            "5201 CALIFORNIA AVE SW UNIT A, SEATTLE, WA 98136, US\n",
            "5201 N CALIFORNIA AVE UNIT A, CHICAGO, IL 60625, US\n",
            "5201 W CALIFORNIA RD UNIT A, FORT WAYNE, IN 46818, US\n",
            "5201 CALIFORNINA ST, CARRABELLE, FL 32322, US\n",
            "5201 W A ST, KERMAN, CA 93630, US\n"
          ]
        }
      ],
      "source": [
        "address = '5201 California A'\n",
        "country_code = 'US'\n",
        "address_search_data = autocomplete_address(lightbox_api_key, address, country_code)\n",
        "\n",
        "print(f\"status_code: {address_search_data.status_code}\")\n",
        "for address in address_search_data.json()[\"addresses\"]:\n",
        "    print(address[\"label\"])"
      ]
    },
    {
      "cell_type": "markdown",
      "metadata": {},
      "source": [
        "3. Notice how if the address is limited, the API will not be able to match the input to an address\n",
        "\n",
        "\n"
      ]
    },
    {
      "cell_type": "code",
      "execution_count": 50,
      "metadata": {},
      "outputs": [
        {
          "name": "stdout",
          "output_type": "stream",
          "text": [
            "status_code: 404\n",
            "{'error': {'code': '404', 'message': 'Not Found'}}\n"
          ]
        }
      ],
      "source": [
        "address = '5401'\n",
        "country_code = 'US'\n",
        "address_search_data = autocomplete_address(lightbox_api_key, address, country_code)\n",
        "\n",
        "print(f\"status_code: {address_search_data.status_code}\")\n",
        "print(address_search_data.json())"
      ]
    },
    {
      "cell_type": "markdown",
      "metadata": {},
      "source": [
        "# Commonly Seen Errors\n",
        "\n",
        "See [LightBox Geocoder API](https://developer.lightboxre.com/api/geocoding#/Autocomplete/get_addresses__autocomplete) for a list of common error responses. "
      ]
    }
  ],
  "metadata": {
    "colab": {
      "provenance": []
    },
    "kernelspec": {
      "display_name": "Python 3",
      "name": "python3"
    },
    "language_info": {
      "codemirror_mode": {
        "name": "ipython",
        "version": 3
      },
      "file_extension": ".py",
      "mimetype": "text/x-python",
      "name": "python",
      "nbconvert_exporter": "python",
      "pygments_lexer": "ipython3",
      "version": "3.10.6"
    }
  },
  "nbformat": 4,
  "nbformat_minor": 0
}
