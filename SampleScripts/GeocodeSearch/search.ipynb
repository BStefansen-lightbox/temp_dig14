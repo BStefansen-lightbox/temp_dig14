{
  "cells": [
    {
      "cell_type": "markdown",
      "metadata": {},
      "source": [
        "# LightBox API - Purpose of Search Endpoint\n",
        "\n",
        "Return an address based on the full text string 'text,' where each result includes a representative point for the address and references to related parcels. If there is no exact match, this will return the best possible match. The '$ref' value within each 'parcels' object for a specific address can be used to get information about the parcel."
      ]
    },
    {
      "cell_type": "markdown",
      "metadata": {
        "id": "2cOAB4V6LHOn"
      },
      "source": [
        "## Geocoding Addresses with Search\n",
        "\n",
        "This notebook demonstrates basic features of the LightBox Geocoding API by walking through the following steps:\n",
        "\n",
        "1. **Setup**\n",
        "   - Importing necessary Python libraries.\n",
        "   - Defining global configurations and API keys.\n",
        "\n",
        "2. **Function Definition(s)**\n",
        "   - `geocode_address`: Function to geocode a single address.\n",
        "\n",
        "3. **API Key**\n",
        "   - Enter your API Key for Authorization.\n",
        "\n",
        "4. **Create request objects and display the results in JSON form.**\n",
        "   - User will input an address in the format [Address], [State], [Zip Code].\n",
        "   - The API call will be made and the response will be printed."
      ]
    },
    {
      "cell_type": "markdown",
      "metadata": {
        "id": "hBNLvtL0Meqa"
      },
      "source": [
        "### 1. Import the required python packages"
      ]
    },
    {
      "cell_type": "code",
      "execution_count": null,
      "metadata": {
        "id": "Dy1Y4JbTK_ZS"
      },
      "outputs": [],
      "source": [
        "import requests\n",
        "import json\n",
        "from typing import Dict"
      ]
    },
    {
      "cell_type": "markdown",
      "metadata": {
        "id": "U4IjEviiWHh0"
      },
      "source": [
        "### 2. Import function definitions"
      ]
    },
    {
      "cell_type": "code",
      "execution_count": null,
      "metadata": {
        "id": "4KcpfI0sWS_K"
      },
      "outputs": [],
      "source": [
        "# ----------------------------\n",
        "# Function Definitions\n",
        "# ----------------------------\n",
        "def geocode_address(\n",
        "        lightbox_api_key: str, \n",
        "        address: str, \n",
        ") -> Dict:\n",
        "    \"\"\"\n",
        "    geocodes the provided address using the LightBox API.\n",
        "    \n",
        "    Args:\n",
        "        lightbox_api_key (str): The API key for accessing the LightBox API.\n",
        "        address (str): The address string for matching.\n",
        "    \n",
        "    Returns:\n",
        "        dict: The geocoded address information in JSON format.\n",
        "    \"\"\"\n",
        "    # Prepare request parameters\n",
        "    BASE_URL = \"https://api.lightboxre.com/v1\"\n",
        "    ENDPOINT = \"/addresses/search\"\n",
        "    URL = BASE_URL + ENDPOINT\n",
        "    params = {'text': address}\n",
        "    headers = {'x-api-key': lightbox_api_key}\n",
        "\n",
        "    # Send request to LightBox API\n",
        "    response = requests.get(URL, params=params, headers=headers)\n",
        "\n",
        "    return response\n",
        "\n"
      ]
    },
    {
      "cell_type": "markdown",
      "metadata": {
        "id": "RaaeChfBNCQL"
      },
      "source": [
        "### 3. Create variables that will be used to authenticate your calls.\n",
        "Get your key from the [LightBox Developer Portal](https://developer.lightboxre.com/)."
      ]
    },
    {
      "cell_type": "code",
      "execution_count": null,
      "metadata": {
        "id": "S3QFcHh-NOkz"
      },
      "outputs": [],
      "source": [
        "lightbox_api_key = '<YOUR_API_KEY>'"
      ]
    },
    {
      "cell_type": "markdown",
      "metadata": {
        "id": "ujeelPaiNNGo"
      },
      "source": [
        "### 4. Geocoding an Address"
      ]
    },
    {
      "cell_type": "code",
      "execution_count": null,
      "metadata": {
        "colab": {
          "base_uri": "https://localhost:8080/"
        },
        "id": "oSokz8asO9wS",
        "outputId": "017bb3a6-47c8-42b5-945f-217046d13b77"
      },
      "outputs": [
        {
          "name": "stdout",
          "output_type": "stream",
          "text": [
            "status_code: 200\n",
            "{\n",
            "    \"$ref\": \"https://api.lightboxre.com/v1/addresses/search?text=25482%20Buckwood%20Land%20Forest%2C%20Ca%2C%2092630\",\n",
            "    \"$metadata\": {\n",
            "        \"geogcs\": {\n",
            "            \"epsg\": \"4326\"\n",
            "        },\n",
            "        \"recordSet\": {\n",
            "            \"totalRecords\": 1.0\n",
            "        }\n",
            "    },\n",
            "    \"addresses\": [\n",
            "        {\n",
            "            \"$ref\": \"https://api.lightboxre.com/v1/addresses/search?text=25482%20Buckwood%2C%20Lake%20Forest%2C%20CA%2092630-5433%2C%20USA\",\n",
            "            \"id\": \"06033UO1O5JI8WZTQ8O4SG\",\n",
            "            \"uuaid\": null,\n",
            "            \"uaid\": null,\n",
            "            \"$metadata\": {\n",
            "                \"geocode\": {\n",
            "                    \"confidence\": {\n",
            "                        \"streetNumber\": 1,\n",
            "                        \"streetName\": 0.9230769230769231,\n",
            "                        \"locality\": 1,\n",
            "                        \"postalCode\": 1,\n",
            "                        \"score\": 0.949\n",
            "                    },\n",
            "                    \"precisionCode\": 10,\n",
            "                    \"changeFlag\": {\n",
            "                        \"streetName\": \"Fuzzy\",\n",
            "                        \"locality\": \"Alias\"\n",
            "                    },\n",
            "                    \"addressComponents\": {\n",
            "                        \"prefixType\": null,\n",
            "                        \"prefixDirection\": null,\n",
            "                        \"streetNumber\": \"25482\",\n",
            "                        \"streetName\": \"Buckwood\",\n",
            "                        \"suffixType\": null,\n",
            "                        \"suffixDirection\": null,\n",
            "                        \"unit\": null\n",
            "                    },\n",
            "                    \"aliases\": null\n",
            "                }\n",
            "            },\n",
            "            \"label\": \"25482 BUCKWOOD, LAKE FOREST, CA 92630-5433, US\",\n",
            "            \"type\": null,\n",
            "            \"addressConfidenceScore\": null,\n",
            "            \"postalCodeDerived\": null,\n",
            "            \"corroborationIndex\": null,\n",
            "            \"location\": {\n",
            "                \"streetAddress\": \"25482 BUCKWOOD\",\n",
            "                \"locality\": \"LAKE FOREST\",\n",
            "                \"regionCode\": \"CA\",\n",
            "                \"unit\": null,\n",
            "                \"county\": \"ORANGE COUNTY\",\n",
            "                \"countryCode\": \"US\",\n",
            "                \"postalCode\": \"92630\",\n",
            "                \"postalCodeExt\": \"5433\",\n",
            "                \"representativePoint\": {\n",
            "                    \"latitude\": 33.62776,\n",
            "                    \"longitude\": -117.685771,\n",
            "                    \"geometry\": {\n",
            "                        \"wkt\": \"POINT(-117.685771 33.62776)\"\n",
            "                    }\n",
            "                }\n",
            "            },\n",
            "            \"parcels\": [\n",
            "                {\n",
            "                    \"$ref\": \"https://api.lightboxre.com/v1/parcels/us/02011302EQSMZB5I2YM3IV\",\n",
            "                    \"id\": \"02011302EQSMZB5I2YM3IV\"\n",
            "                }\n",
            "            ],\n",
            "            \"structures\": [\n",
            "                {\n",
            "                    \"$ref\": \"https://api.lightboxre.com/v1/structures/us/0503Z0KH336YKS3P609GRE\",\n",
            "                    \"id\": \"0503Z0KH336YKS3P609GRE\"\n",
            "                }\n",
            "            ],\n",
            "            \"assessments\": [\n",
            "                {\n",
            "                    \"$ref\": \"https://api.lightboxre.com/v1/assessments/us/0307LTEIHJOJRD1XGXP84X\",\n",
            "                    \"id\": \"0307LTEIHJOJRD1XGXP84X\"\n",
            "                }\n",
            "            ]\n",
            "        }\n",
            "    ]\n",
            "}\n"
          ]
        }
      ],
      "source": [
        "address = '25482 Buckwood Land Forest, Ca, 92630'\n",
        "\n",
        "address_search_data = geocode_address(lightbox_api_key, address)\n",
        "print(f\"status_code: {address_search_data.status_code}\")\n",
        "print(json.dumps(address_search_data.json(), indent=4))"
      ]
    }
  ],
  "metadata": {
    "colab": {
      "provenance": []
    },
    "kernelspec": {
      "display_name": "Python 3",
      "name": "python3"
    },
    "language_info": {
      "codemirror_mode": {
        "name": "ipython",
        "version": 3
      },
      "file_extension": ".py",
      "mimetype": "text/x-python",
      "name": "python",
      "nbconvert_exporter": "python",
      "pygments_lexer": "ipython3",
      "version": "3.11.1"
    }
  },
  "nbformat": 4,
  "nbformat_minor": 0
}
