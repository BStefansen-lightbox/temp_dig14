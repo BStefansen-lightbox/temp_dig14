{
  "cells": [
    {
      "cell_type": "markdown",
      "metadata": {},
      "source": [
        "# LightBox API - Purpose of Reverse Endpoint\n",
        "\n",
        "Get addresses based on a WKT (well-known text) geometry string."
      ]
    },
    {
      "cell_type": "markdown",
      "metadata": {
        "id": "2cOAB4V6LHOn"
      },
      "source": [
        "# LightBox API - Geocoding Addresses with Reverse Address Search\n",
        "\n",
        "This notebook demonstrates basic features of the LightBox Geocoding API by walking through the following steps:\n",
        "\n",
        "1. Import Python packages\n",
        "2. Enter your **API Key** for authorization\n",
        "3. Create request objects and display the results both in the JSON form.\n",
        "\n",
        "Additional Materials:\n",
        "[LightBox Developer Portal](https://developer.lightboxre.com/)"
      ]
    },
    {
      "cell_type": "markdown",
      "metadata": {
        "id": "hBNLvtL0Meqa"
      },
      "source": [
        "#1. Import the required python packages"
      ]
    },
    {
      "cell_type": "code",
      "execution_count": 1,
      "metadata": {
        "id": "Dy1Y4JbTK_ZS"
      },
      "outputs": [],
      "source": [
        "import requests\n",
        "import json\n",
        "from typing import Dict\n"
      ]
    },
    {
      "cell_type": "markdown",
      "metadata": {
        "id": "U4IjEviiWHh0"
      },
      "source": [
        "#2. Import function definitions"
      ]
    },
    {
      "cell_type": "code",
      "execution_count": 2,
      "metadata": {
        "id": "4KcpfI0sWS_K"
      },
      "outputs": [],
      "source": [
        "# ----------------------------\n",
        "# Function Definitions\n",
        "# ----------------------------\n",
        "def reverse_address_search(\n",
        "        lightbox_api_key: str, \n",
        "        wkt: str, \n",
        "        bufferDistance: float,\n",
        "        bufferUnit: str,\n",
        "        limit: int\n",
        ") -> Dict:\n",
        "    \"\"\"\n",
        "    Performs a reverse address search using the LightBox API.\n",
        "\n",
        "    Args:\n",
        "        lightbox_api_key (str): The API key for accessing the LightBox API.\n",
        "        wkt (str): The geometry of the location expressed in WKT (well-known text) format.\n",
        "                   Example: POINT(-117.852723 33.63799)\n",
        "        bufferDistance (float): Buffer distance expressed in 'bufferUnits'.\n",
        "                                Default value: 0\n",
        "                                Example: 100\n",
        "        bufferUnit (str): The unit type to apply to the buffer (e.g., m=meters, km=kilometers, ft=feet, or mi=miles).\n",
        "                          Available values: m, km, ft, mi\n",
        "                          Default value: m\n",
        "                          Example: m\n",
        "        limit (int): The maximum number of entries to return. If the value exceeds the maximum, then the maximum value will be used.\n",
        "\n",
        "    Returns:\n",
        "        dict: A dictionary containing information about the addresses found, in JSON format.\n",
        "    \"\"\"\n",
        "    # Prepare request parameters\n",
        "    BASE_URL = \"https://api.lightboxre.com/v1\"\n",
        "    ENDPOINT = \"/addresses/reverse\"\n",
        "    URL = BASE_URL + ENDPOINT\n",
        "    params = {\n",
        "        'wkt': wkt, \n",
        "        'bufferDistance': bufferDistance,\n",
        "        'bufferUnit': bufferUnit,\n",
        "        'limit': limit\n",
        "    }\n",
        "    headers = {'x-api-key': lightbox_api_key}\n",
        "\n",
        "    # Send request to LightBox API\n",
        "    response = requests.get(URL, params=params, headers=headers)\n",
        "\n",
        "    return response"
      ]
    },
    {
      "cell_type": "markdown",
      "metadata": {
        "id": "RaaeChfBNCQL"
      },
      "source": [
        "#3. Create variables that will be used to authenticate your calls.\n",
        "Get your key from the [LightBox Developer Portal](https://developer.lightboxre.com/)."
      ]
    },
    {
      "cell_type": "code",
      "execution_count": 5,
      "metadata": {
        "id": "S3QFcHh-NOkz"
      },
      "outputs": [],
      "source": [
        "lightbox_api_key = '<YOUR_API_KEY>'"
      ]
    },
    {
      "cell_type": "markdown",
      "metadata": {
        "id": "ujeelPaiNNGo"
      },
      "source": [
        "#4. LightBox Geocoding API Details\n",
        "This notbook will create various requests and display the output in JSON.\n",
        "1. **Geocoding** - https://api.lightboxre.com/addresses/reverse\n",
        "\n",
        "For additional details regarding each endpoint's request parameters or response models, visit the [LightBox Geocoding](https://developer.lightboxre.com/api/geocoding) on the LightBox Developer Portal page."
      ]
    },
    {
      "cell_type": "markdown",
      "metadata": {
        "id": "K0RRR5piPUm3"
      },
      "source": [
        "Create a variable containing the base url for subsequent calls.\n"
      ]
    },
    {
      "cell_type": "markdown",
      "metadata": {
        "id": "-IOtu7BQOmQt"
      },
      "source": [
        "1. Geocoding autocomplete endpoint"
      ]
    },
    {
      "cell_type": "code",
      "execution_count": 6,
      "metadata": {
        "colab": {
          "base_uri": "https://localhost:8080/"
        },
        "id": "oSokz8asO9wS",
        "outputId": "017bb3a6-47c8-42b5-945f-217046d13b77"
      },
      "outputs": [
        {
          "name": "stdout",
          "output_type": "stream",
          "text": [
            "status_code: 200\n",
            "{\n",
            "    \"$ref\": \"https://api.lightboxre.com/v1/addresses/reverse?wkt=POINT%28-117.852723%2033.63799%29&bufferDistance=100&bufferUnit=m&limit=5\",\n",
            "    \"$metadata\": {\n",
            "        \"geogcs\": {\n",
            "            \"epsg\": \"4326\"\n",
            "        },\n",
            "        \"recordSet\": {\n",
            "            \"totalRecords\": 1.0\n",
            "        }\n",
            "    },\n",
            "    \"addresses\": [\n",
            "        {\n",
            "            \"$ref\": \"https://api.lightboxre.com/v1/addresses/search?text=5231%20California%20Ave%2C%20Irvine%2C%20CA%2092617-3073%2C%20USA\",\n",
            "            \"id\": \"0601ZAUFK59P2ZF5E0K5PX\",\n",
            "            \"uuaid\": null,\n",
            "            \"uaid\": null,\n",
            "            \"$metadata\": {\n",
            "                \"geocode\": {\n",
            "                    \"confidence\": {\n",
            "                        \"score\": 0.8\n",
            "                    },\n",
            "                    \"precisionCode\": 10,\n",
            "                    \"addressComponents\": {\n",
            "                        \"prefixType\": null,\n",
            "                        \"prefixDirection\": null,\n",
            "                        \"streetNumber\": \"5231\",\n",
            "                        \"streetName\": \"California\",\n",
            "                        \"suffixType\": \"Ave\",\n",
            "                        \"suffixDirection\": null,\n",
            "                        \"unit\": null\n",
            "                    },\n",
            "                    \"aliases\": null\n",
            "                }\n",
            "            },\n",
            "            \"label\": \"5231 CALIFORNIA AVE, IRVINE, CA 92617-3073, US\",\n",
            "            \"type\": null,\n",
            "            \"addressConfidenceScore\": null,\n",
            "            \"postalCodeDerived\": null,\n",
            "            \"corroborationIndex\": null,\n",
            "            \"location\": {\n",
            "                \"streetAddress\": \"5231 CALIFORNIA AVE\",\n",
            "                \"locality\": \"IRVINE\",\n",
            "                \"regionCode\": \"CA\",\n",
            "                \"unit\": null,\n",
            "                \"county\": \"ORANGE COUNTY\",\n",
            "                \"countryCode\": \"US\",\n",
            "                \"postalCode\": \"92617\",\n",
            "                \"postalCodeExt\": \"3073\",\n",
            "                \"representativePoint\": {\n",
            "                    \"latitude\": 33.637155,\n",
            "                    \"longitude\": -117.852903,\n",
            "                    \"geometry\": {\n",
            "                        \"wkt\": \"POINT(-117.852903 33.637155)\"\n",
            "                    }\n",
            "                }\n",
            "            },\n",
            "            \"parcels\": [\n",
            "                {\n",
            "                    \"$ref\": \"https://api.lightboxre.com/v1/parcels/us/02034UK8D0FPUGRCMY8L76\",\n",
            "                    \"id\": \"02034UK8D0FPUGRCMY8L76\"\n",
            "                }\n",
            "            ],\n",
            "            \"structures\": [\n",
            "                {\n",
            "                    \"$ref\": \"https://api.lightboxre.com/v1/structures/us/0501KH2HJMWRTZZSLB8LK2\",\n",
            "                    \"id\": \"0501KH2HJMWRTZZSLB8LK2\"\n",
            "                }\n",
            "            ],\n",
            "            \"assessments\": null\n",
            "        }\n",
            "    ]\n",
            "}\n"
          ]
        }
      ],
      "source": [
        "wkt = 'POINT(-117.852723 33.63799)'\n",
        "bufferDistance = 100\n",
        "bufferUnit = 'm'\n",
        "limit = 5\n",
        "\n",
        "address_search_data = reverse_address_search(\n",
        "    lightbox_api_key, \n",
        "    wkt, \n",
        "    bufferDistance,\n",
        "    bufferUnit,\n",
        "    limit\n",
        ")\n",
        "print(f\"status_code: {address_search_data.status_code}\")\n",
        "print(json.dumps(address_search_data.json(), indent=4))"
      ]
    },
    {
      "cell_type": "markdown",
      "metadata": {},
      "source": [
        "# Commonly Seen Errors\n",
        "\n",
        "See [LightBox Geocoder API](https://developer.lightboxre.com/api/geocoding#/Autocomplete/get_addresses__autocomplete) for a list of common error responses. "
      ]
    }
  ],
  "metadata": {
    "colab": {
      "provenance": []
    },
    "kernelspec": {
      "display_name": "Python 3",
      "name": "python3"
    },
    "language_info": {
      "codemirror_mode": {
        "name": "ipython",
        "version": 3
      },
      "file_extension": ".py",
      "mimetype": "text/x-python",
      "name": "python",
      "nbconvert_exporter": "python",
      "pygments_lexer": "ipython3",
      "version": "3.10.6"
    }
  },
  "nbformat": 4,
  "nbformat_minor": 0
}
